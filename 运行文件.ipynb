{
 "cells": [
  {
   "cell_type": "markdown",
   "metadata": {},
   "source": [
    "* author：YHX \n",
    "* date  ：2022/12/19\n",
    "* theme ：脑机接口--运动想象"
   ]
  },
  {
   "cell_type": "code",
   "execution_count": null,
   "metadata": {},
   "outputs": [],
   "source": [
    "## 引入python库\n",
    "import os\n",
    "import numpy as np\n",
    "import matplotlib.pyplot as plt\n",
    "import pickle\n",
    "\n",
    "import mne\n",
    "from mne.io import concatenate_raws, read_raw_edf  ## 读取edf格式数据\n",
    "from mne.datasets import eegbci"
   ]
  },
  {
   "cell_type": "code",
   "execution_count": null,
   "metadata": {},
   "outputs": [],
   "source": [
    "## 设置工作路径\n",
    "os.chdir('D:\\BMI\\data\\mne_data')  ## mne_data文件夹下就是S001、S002等\n",
    "print(os.getcwd())"
   ]
  },
  {
   "cell_type": "markdown",
   "metadata": {},
   "source": [
    "### 0 数据读入与切片\n",
    "* 研究抽取32个观察样本，真实+想象的左右拳头"
   ]
  },
  {
   "cell_type": "code",
   "execution_count": null,
   "metadata": {},
   "outputs": [],
   "source": [
    "from get_data_label import get_data_label    ########## 具体代码在最后  ##########"
   ]
  },
  {
   "cell_type": "code",
   "execution_count": null,
   "metadata": {},
   "outputs": [],
   "source": [
    "## 数据读入列表 -- all_index_subjects 所有主体索引(1-109)    all_index_task 所有任务标签(1-14)\n",
    "filePath = os.getcwd()\n",
    "temp_index_subjects = os.listdir(filePath)\n",
    "all_index_subjects = temp_index_subjects[5:-2]  ## 109"
   ]
  },
  {
   "cell_type": "code",
   "execution_count": null,
   "metadata": {},
   "outputs": [],
   "source": [
    "subjects = all_index_subjects[:32] #[2]\n",
    "path = filePath\n",
    "\n",
    "event_id=dict( T0=1,T1=2, T2=3)  ## 主要看是否取 TO 静息状态  # T0=1,\n",
    "tmin = 0 ; tmax = 4"
   ]
  },
  {
   "cell_type": "code",
   "execution_count": null,
   "metadata": {},
   "outputs": [],
   "source": [
    "### 真实 左右拳\n",
    "runs1 = [3, 7, 11]  \n",
    "replacelist1 = [\"rest\",\"true_fist_left\",\"true_fist_right\"]"
   ]
  },
  {
   "cell_type": "code",
   "execution_count": null,
   "metadata": {},
   "outputs": [],
   "source": [
    "get1 = get_data_label(subjects,runs1,path) \n",
    "data1 , event_data1 = get1.data_pair(event_id,tmin=0, tmax=4)\n",
    "event_label1 = get1.get_event_label(event_data1,replacelist1)\n",
    "event_label1 = np.array(event_label1)"
   ]
  },
  {
   "cell_type": "code",
   "execution_count": null,
   "metadata": {},
   "outputs": [],
   "source": [
    "print(data1.shape, 2*\"\\n\", event_label1.shape)"
   ]
  },
  {
   "cell_type": "code",
   "execution_count": null,
   "metadata": {
    "scrolled": true
   },
   "outputs": [],
   "source": [
    "### 想象 左右拳\n",
    "runs2 = [4, 8, 12]  \n",
    "replacelist2 = [\"rest\",\"img_fist_left\",\"img_fist_right\"]"
   ]
  },
  {
   "cell_type": "code",
   "execution_count": null,
   "metadata": {},
   "outputs": [],
   "source": [
    "get2 = get_data_label(subjects,runs2,path) \n",
    "data2 , event_data2 = get1.data_pair(event_id,tmin=0, tmax=4)\n",
    "event_label2 = get1.get_event_label(event_data2,replacelist2)\n",
    "event_label2 = np.array(event_label2)"
   ]
  },
  {
   "cell_type": "code",
   "execution_count": null,
   "metadata": {},
   "outputs": [],
   "source": [
    "print(data2.shape, 2*\"\\n\", event_label2.shape)"
   ]
  },
  {
   "cell_type": "code",
   "execution_count": null,
   "metadata": {
    "scrolled": true
   },
   "outputs": [],
   "source": [
    "## 合并数据\n",
    "data = np.concatenate((data1,data2),axis=0)\n",
    "label = np.concatenate((event_label1,event_label2),axis=0)\n",
    "print(data.shape, 2*\"\\n\", label.shape)"
   ]
  },
  {
   "cell_type": "code",
   "execution_count": null,
   "metadata": {},
   "outputs": [],
   "source": [
    "## data+label 保存\n",
    "os.chdir(\"C:/Users/dell.000/机器学习_研一/期末论文_运动想象分类\")"
   ]
  },
  {
   "cell_type": "code",
   "execution_count": null,
   "metadata": {},
   "outputs": [],
   "source": [
    "fd = open(\"data.pkl\", \"rb\")\n",
    "result = pickle.load(fd)"
   ]
  },
  {
   "cell_type": "code",
   "execution_count": null,
   "metadata": {},
   "outputs": [],
   "source": [
    "fl = open(\"label.pkl\", \"rb\")\n",
    "rlabel = pickle.load(fl)"
   ]
  },
  {
   "cell_type": "markdown",
   "metadata": {},
   "source": [
    "##########################################################################################################################################"
   ]
  },
  {
   "cell_type": "markdown",
   "metadata": {},
   "source": [
    "## 一、特征提取+经典分类器组合模型"
   ]
  },
  {
   "cell_type": "markdown",
   "metadata": {},
   "source": [
    "### 1 数据划分"
   ]
  },
  {
   "cell_type": "code",
   "execution_count": null,
   "metadata": {},
   "outputs": [],
   "source": [
    "## 引入python库\n",
    "import os\n",
    "import numpy as np\n",
    "import matplotlib.pyplot as plt\n",
    "import pickle"
   ]
  },
  {
   "cell_type": "code",
   "execution_count": null,
   "metadata": {},
   "outputs": [],
   "source": [
    "fd = open(\"data.pkl\", \"rb\")\n",
    "data = pickle.load(fd)\n",
    "fd.close()\n",
    "fl = open(\"label.pkl\", \"rb\")\n",
    "label = pickle.load(fl)\n",
    "fl.close()"
   ]
  },
  {
   "cell_type": "code",
   "execution_count": null,
   "metadata": {},
   "outputs": [],
   "source": [
    "print(data.shape, 2*\"\\n\", label.shape)"
   ]
  },
  {
   "cell_type": "code",
   "execution_count": null,
   "metadata": {},
   "outputs": [],
   "source": [
    "replacelist = [\"rest\",\"true_fist_left\",\"true_fist_right\",\"img_fist_left\",\"img_fist_right\"]\n",
    "def get_event_label(label,replacelist):\n",
    "    label_hat=[]\n",
    "    need_index = []\n",
    "    for i in range(len(label)):\n",
    "        if label[i] == replacelist[0] :\n",
    "            pass\n",
    "            #label_hat.append(0)\n",
    "            #need_index.append(i)\n",
    "        elif label[i] == replacelist[1]:\n",
    "            #pass\n",
    "            label_hat.append(0)\n",
    "            need_index.append(i)\n",
    "        elif label[i] == replacelist[2]:\n",
    "            #pass\n",
    "            label_hat.append(1)\n",
    "            need_index.append(i)\n",
    "        elif label[i] == replacelist[3]:\n",
    "            pass\n",
    "            #label_hat.append(0)\n",
    "            #need_index.append(i)\n",
    "        elif label[i] == replacelist[4]:\n",
    "            pass\n",
    "            #label_hat.append(1)\n",
    "            #need_index.append(i)\n",
    "        else:\n",
    "            print(\"存在错误\")\n",
    "    return label_hat,need_index"
   ]
  },
  {
   "cell_type": "code",
   "execution_count": null,
   "metadata": {},
   "outputs": [],
   "source": [
    "label_hat,need_index = get_event_label(label,replacelist)"
   ]
  },
  {
   "cell_type": "code",
   "execution_count": null,
   "metadata": {},
   "outputs": [],
   "source": [
    "data_hat = data[need_index,:,:]"
   ]
  },
  {
   "cell_type": "code",
   "execution_count": null,
   "metadata": {},
   "outputs": [],
   "source": [
    "print(data_hat.shape, 2*\"\\n\" , len(label_hat))"
   ]
  },
  {
   "cell_type": "code",
   "execution_count": null,
   "metadata": {},
   "outputs": [],
   "source": [
    "## 具体数据划分\n",
    "from sklearn.model_selection import train_test_split  # 样本划分 "
   ]
  },
  {
   "cell_type": "code",
   "execution_count": null,
   "metadata": {},
   "outputs": [],
   "source": [
    "X_train,X_test,y_train,y_test = train_test_split(data_hat, label_hat, random_state=0, test_size=0.1)"
   ]
  },
  {
   "cell_type": "code",
   "execution_count": null,
   "metadata": {},
   "outputs": [],
   "source": [
    "print(X_train.shape, len(y_train), X_test.shape, len(y_test))"
   ]
  },
  {
   "cell_type": "markdown",
   "metadata": {},
   "source": [
    "### 2 特征提取"
   ]
  },
  {
   "cell_type": "code",
   "execution_count": null,
   "metadata": {},
   "outputs": [],
   "source": [
    "## 2.1 C_mean\n",
    "from Mymodel import myC_Mean   ########## 具体代码在最后  ##########\n",
    "modelC_mean = myC_mean(data)\n",
    "X_train_C_mean = modelC_mean.get_C_mean_data(X_train)\n",
    "X_test_C_mean = modelC_mean.get_C_mean_data(X_test)"
   ]
  },
  {
   "cell_type": "code",
   "execution_count": null,
   "metadata": {},
   "outputs": [],
   "source": [
    "print(X_train_C_mean.shape, len(y_train), X_test_C_mean.shape, len(y_test))"
   ]
  },
  {
   "cell_type": "code",
   "execution_count": null,
   "metadata": {},
   "outputs": [],
   "source": [
    "## 2.2 PCA\n",
    "from Mymodel import myPCA     ########## 具体代码在最后  ##########\n",
    "modelPCA = myPCA(X_train_C_mean)\n",
    "n_components = modelPCA.get_PCA_nums()\n",
    "modelPCA.get_plot_PVE()\n",
    "modelPCA.get_plot_Cumulative_PVE()\n",
    "X_train_pca,X_test_pca = modelPCA.fit(X_train_C_mean,X_test_C_mean, n_components=n_components)"
   ]
  },
  {
   "cell_type": "code",
   "execution_count": null,
   "metadata": {},
   "outputs": [],
   "source": [
    "print(X_train_pca.shape, len(y_train), X_test_pca.shape, len(y_test))"
   ]
  },
  {
   "cell_type": "markdown",
   "metadata": {},
   "source": [
    "### 3 经典分类模型搭建"
   ]
  },
  {
   "cell_type": "code",
   "execution_count": null,
   "metadata": {},
   "outputs": [],
   "source": [
    "## 编写 获取混淆矩阵以及错误率函数\n",
    "def get_confusion_matrix_result(y_test,y_predict):\n",
    "    matrix_test = confusion_matrix(y_test,y_predict)\n",
    "    print('混淆矩阵是：',\"\\n\",matrix_test)\n",
    "    \n",
    "    print(\"估计的误判概率：\\n\", \n",
    "     \"P(II|I)=\",matrix_test[0][1]/sum(matrix_test[0]),\"\\n\",\n",
    "     \"P(I|II)=\",matrix_test[1][0]/sum(matrix_test[1]),)"
   ]
  },
  {
   "cell_type": "code",
   "execution_count": null,
   "metadata": {},
   "outputs": [],
   "source": [
    "from sklearn.metrics import confusion_matrix,classification_report ### 混淆矩阵"
   ]
  },
  {
   "cell_type": "code",
   "execution_count": null,
   "metadata": {},
   "outputs": [],
   "source": [
    "## LDA 费希尔判别\n",
    "from sklearn.discriminant_analysis import LinearDiscriminantAnalysis ### 费希尔判别"
   ]
  },
  {
   "cell_type": "code",
   "execution_count": null,
   "metadata": {},
   "outputs": [],
   "source": [
    "lda = LinearDiscriminantAnalysis()\n",
    "## 3.1 lda + C_mean\n",
    "lda.fit(X_train_C_mean,y_train)\n",
    "lda_C_mean_train_score = lda.score(X_train_C_mean,y_train)\n",
    "print(lda_C_mean_train_score)"
   ]
  },
  {
   "cell_type": "code",
   "execution_count": null,
   "metadata": {
    "scrolled": false
   },
   "outputs": [],
   "source": [
    "lda_C_mean_test_score = lda.score(X_test_C_mean,y_test)\n",
    "print(lda_C_mean_test_score)"
   ]
  },
  {
   "cell_type": "code",
   "execution_count": null,
   "metadata": {},
   "outputs": [],
   "source": [
    "y_predict = lda.predict(X_test_C_mean)"
   ]
  },
  {
   "cell_type": "code",
   "execution_count": null,
   "metadata": {},
   "outputs": [],
   "source": [
    "get_confusion_matrix_result(y_test,y_predict)"
   ]
  },
  {
   "cell_type": "code",
   "execution_count": null,
   "metadata": {},
   "outputs": [],
   "source": [
    "################################################################################################################\n",
    "lda = LinearDiscriminantAnalysis()\n",
    "## 3.2 lda + PCA\n",
    "lda.fit(X_train_pca,y_train)\n",
    "lda_pca_train_score = lda.score(X_train_pca,y_train)\n",
    "print(lda_pca_train_score)"
   ]
  },
  {
   "cell_type": "code",
   "execution_count": null,
   "metadata": {},
   "outputs": [],
   "source": [
    "lda_pca_test_score = lda.score(X_test_pca,y_test)\n",
    "print(lda_pca_test_score)"
   ]
  },
  {
   "cell_type": "code",
   "execution_count": null,
   "metadata": {},
   "outputs": [],
   "source": [
    "y_predict = lda.predict(X_test_pca)"
   ]
  },
  {
   "cell_type": "code",
   "execution_count": null,
   "metadata": {},
   "outputs": [],
   "source": [
    "get_confusion_matrix_result(y_test,y_predict)"
   ]
  },
  {
   "cell_type": "code",
   "execution_count": null,
   "metadata": {},
   "outputs": [],
   "source": [
    "################################################################################################################\n",
    "## SVM\n",
    "from sklearn.svm import SVC"
   ]
  },
  {
   "cell_type": "code",
   "execution_count": null,
   "metadata": {},
   "outputs": [],
   "source": [
    "svm = SVC()\n",
    "## 3.1 svm + C_mean\n",
    "svm.fit(X_train_C_mean,y_train)\n",
    "svm_C_mean_train_score = svm.score(X_train_C_mean,y_train)\n",
    "print(svm_C_mean_train_score)"
   ]
  },
  {
   "cell_type": "code",
   "execution_count": null,
   "metadata": {
    "scrolled": true
   },
   "outputs": [],
   "source": [
    "svm_C_mean_test_score = svm.score(X_test_C_mean,y_test)\n",
    "print(svm_C_mean_test_score)"
   ]
  },
  {
   "cell_type": "code",
   "execution_count": null,
   "metadata": {},
   "outputs": [],
   "source": [
    "y_predict = svm.predict(X_test_C_mean)"
   ]
  },
  {
   "cell_type": "code",
   "execution_count": null,
   "metadata": {},
   "outputs": [],
   "source": [
    "get_confusion_matrix_result(y_test,y_predict)"
   ]
  },
  {
   "cell_type": "code",
   "execution_count": null,
   "metadata": {},
   "outputs": [],
   "source": [
    "################################################################################################################\n",
    "svm = SVC()\n",
    "## 3.2 svm + PCA\n",
    "svm.fit(X_train_pca,y_train)\n",
    "svm_pca_train_score = svm.score(X_train_pca,y_train)\n",
    "print(svm_pca_train_score)"
   ]
  },
  {
   "cell_type": "code",
   "execution_count": null,
   "metadata": {},
   "outputs": [],
   "source": [
    "svm_pca_test_score = svm.score(X_test_pca,y_test)\n",
    "print(svm_pca_test_score)"
   ]
  },
  {
   "cell_type": "code",
   "execution_count": null,
   "metadata": {},
   "outputs": [],
   "source": [
    "y_predict = svm.predict(X_test_pca)"
   ]
  },
  {
   "cell_type": "code",
   "execution_count": null,
   "metadata": {},
   "outputs": [],
   "source": [
    "get_confusion_matrix_result(y_test,y_predict)"
   ]
  },
  {
   "cell_type": "markdown",
   "metadata": {},
   "source": [
    "### 4 学习曲线诊断"
   ]
  },
  {
   "cell_type": "code",
   "execution_count": null,
   "metadata": {},
   "outputs": [],
   "source": [
    "from sklearn.model_selection import learning_curve ## 学习曲线\n",
    "def get_learning_curve(function, X_train, y_train):\n",
    "    train_sizes = np.linspace(0.1,1,num=40,endpoint=True) \n",
    "    train_sizes, train_scores, valida_scores = learning_curve(function, X_train, y_train, train_sizes= train_sizes,cv=5)\n",
    "    print(train_scores.shape)\n",
    "    train_scores_mean = np.mean(train_scores, axis=1)\n",
    "    train_scores_std = np.std(train_scores,axis=1)\n",
    "    validation_scores_mean = np.mean(valida_scores, axis=1)\n",
    "    validation_scores_std = np.std(valida_scores, axis=1)\n",
    "    plt.grid() ## 调整网格线\n",
    "    plt.title (r\"Learning Curves ( LinearDiscriminantAnalysis )\")\n",
    "    plt.fill_between(train_sizes, train_scores_mean - train_scores_std,   ## 曲线填充\n",
    "                         train_scores_mean + train_scores_std, alpha=0.1,\n",
    "                         color=\"r\")\n",
    "    plt.fill_between(train_sizes, validation_scores_mean - validation_scores_std,\n",
    "                         validation_scores_mean + validation_scores_std, alpha=0.1, color=\"g\")\n",
    "    plt.plot(train_sizes, train_scores_mean, '--', color=\"r\", label=\"Training score\")\n",
    "    plt.plot(train_sizes, validation_scores_mean, '--', color=\"g\", label=\"Cross-validation score\")\n",
    "    plt.legend(loc=\"best\")  ## 图示位置“best”\n",
    "    plt.show()"
   ]
  },
  {
   "cell_type": "code",
   "execution_count": null,
   "metadata": {},
   "outputs": [],
   "source": [
    "train_val_X = np.concatenate((X_train_pca, X_test_pca), axis=0)  ## 合并数据\n",
    "train_val_y = np.concatenate((y_train, y_test), axis=0)"
   ]
  },
  {
   "cell_type": "code",
   "execution_count": null,
   "metadata": {},
   "outputs": [],
   "source": [
    "get_learning_curve(lda,train_val_X,train_val_y)  ## LDA or SVM"
   ]
  },
  {
   "cell_type": "markdown",
   "metadata": {},
   "source": [
    "## 二 多层一维卷积神经网络模型"
   ]
  },
  {
   "cell_type": "code",
   "execution_count": null,
   "metadata": {},
   "outputs": [],
   "source": [
    "## 引入python库\n",
    "import os\n",
    "import numpy as np\n",
    "import pandas as pd\n",
    "import torch.nn as nn\n",
    "from torch.utils.data import DataLoader,Dataset\n",
    "import matplotlib.pyplot as plt\n",
    "import pickle\n",
    "import torch\n",
    "import time"
   ]
  },
  {
   "cell_type": "code",
   "execution_count": null,
   "metadata": {},
   "outputs": [],
   "source": [
    "device = torch.device('cuda' if torch.cuda.is_available() else 'cpu')"
   ]
  },
  {
   "cell_type": "code",
   "execution_count": null,
   "metadata": {},
   "outputs": [],
   "source": [
    "## 生成label的one_hot\n",
    "label_hat = np.array(label_hat).reshape((-1,1))\n",
    "from sklearn.preprocessing import OneHotEncoder#导入One-Hot编码\n",
    "## 使用One-Hot编码\n",
    "enc = OneHotEncoder()\n",
    "a=enc.fit_transform(label_hat)\n",
    "label_list = enc.get_feature_names_out()\n",
    "label_onehot =a.toarray()\n",
    "label_list ## x0_1 左, 'x0_2' 右"
   ]
  },
  {
   "cell_type": "markdown",
   "metadata": {},
   "source": [
    "### 1 数据集划分"
   ]
  },
  {
   "cell_type": "code",
   "execution_count": null,
   "metadata": {},
   "outputs": [],
   "source": [
    "from sklearn.model_selection import train_test_split  # 样本划分 \n",
    "X_train,X_val,y_train,y_val = train_test_split(data_hat, label_onehot, random_state=0, test_size=0.2)\n",
    "X_val,X_test,y_val,y_test = train_test_split(X_val, y_val, random_state=0, test_size=0.5)\n",
    "print(X_train.shape, y_train.shape ,2*\"\\n\", X_val.shape,y_val.shape,2*\"\\n\",X_test.shape,y_test.shape)"
   ]
  },
  {
   "cell_type": "code",
   "execution_count": null,
   "metadata": {},
   "outputs": [],
   "source": [
    "## 编写数据加载器\n",
    "def myDataLoader_index(data,batch_size, shuffle):\n",
    "    index_list = np.arange(data.shape[0])\n",
    "    loader_index = DataLoader(index_list, batch_size=batch_size, shuffle=shuffle)\n",
    "    return loader_index"
   ]
  },
  {
   "cell_type": "code",
   "execution_count": null,
   "metadata": {},
   "outputs": [],
   "source": [
    "batch_size = 32"
   ]
  },
  {
   "cell_type": "code",
   "execution_count": null,
   "metadata": {},
   "outputs": [],
   "source": [
    "train_loader_index = myDataLoader_index(X_train,batch_size=batch_size, shuffle=True)\n",
    "val_loader_index = myDataLoader_index(X_val,batch_size=batch_size, shuffle=True)"
   ]
  },
  {
   "cell_type": "markdown",
   "metadata": {},
   "source": [
    "### 2 模型搭建"
   ]
  },
  {
   "cell_type": "code",
   "execution_count": null,
   "metadata": {},
   "outputs": [],
   "source": [
    "class myCNN1d(nn.Module):\n",
    "    def __init__(self):\n",
    "        super(myCNN1d, self).__init__()\n",
    "        # torch.nn.Conv2d(in_channels, out_channels, kernel_size, stride, padding)\n",
    "        # torch.nn.MaxPool2d(kernel_size, stride, padding)\n",
    "        # input 维度 [32，64, 641]\n",
    "        self.cnn = nn.Sequential(\n",
    "            nn.Conv1d(64, 32, 7, 1, 3),  # [32, 640]\n",
    "            nn.BatchNorm1d(32),\n",
    "            nn.ReLU(),\n",
    "            nn.MaxPool1d(2, 2, 0),  # [32, 320]\n",
    "\n",
    "            nn.Conv1d(32, 32, 7, 1, 3),  # [32, 320]\n",
    "            nn.BatchNorm1d(32),\n",
    "            nn.ReLU(),\n",
    "            nn.MaxPool1d(2, 2, 0),  # [32, 160]\n",
    "\n",
    "            nn.Conv1d(32, 32, 7, 1, 3),  # [32, 160]\n",
    "            nn.BatchNorm1d(32),\n",
    "            nn.ReLU(),\n",
    "            nn.MaxPool1d(2, 2, 0),  # [32, 80]\n",
    "\n",
    "        )\n",
    "        self.fc = nn.Sequential(\n",
    "            nn.Linear(32 * 80, 1024),\n",
    "            nn.ReLU(),\n",
    "            nn.Linear(1024, 512),\n",
    "            nn.ReLU(),\n",
    "            nn.Linear(512, 2)\n",
    "        )\n",
    "\n",
    "    def forward(self, x):\n",
    "        out = self.cnn(x)\n",
    "        out = out.view(out.size()[0], -1)\n",
    "        return self.fc(out)"
   ]
  },
  {
   "cell_type": "markdown",
   "metadata": {},
   "source": [
    "### 3 模型训练"
   ]
  },
  {
   "cell_type": "code",
   "execution_count": null,
   "metadata": {},
   "outputs": [],
   "source": [
    "model = myCNN1d().to(device)\n",
    "loss = nn.CrossEntropyLoss()  \n",
    "optimizer = torch.optim.Adam(model.parameters(), lr=0.0001)  # optimizer 使用 Adam\n",
    "num_epoch = 30  # 迭代30次\n",
    "\n",
    "train_loss_list = []\n",
    "train_acc_list = []\n",
    "val_loss_list = []\n",
    "val_acc_list = []\n",
    "\n",
    "for epoch in range(num_epoch):\n",
    "    epoch_start_time = time.time()\n",
    "    train_acc = 0.0\n",
    "    train_loss = 0.0\n",
    "    train_count = 0.0\n",
    "    val_acc = 0.0\n",
    "    val_loss = 0.0\n",
    "    val_count = 0.0\n",
    "\n",
    "    model.train()  \n",
    "    for i, data in enumerate(train_loader_index):\n",
    "        Xtrian = torch.from_numpy(X_train[data,:,:]).to(torch.float32).to(device)\n",
    "        ytrian = torch.from_numpy(y_train[data]).to(torch.float32).to(device)\n",
    "        \n",
    "        optimizer.zero_grad()  \n",
    "        train_pred = model(Xtrian)  \n",
    "        batch_loss = loss(train_pred, ytrian)  \n",
    "        batch_loss.backward()  \n",
    "        optimizer.step() \n",
    "        \n",
    "        train_acc += np.sum(np.argmax(train_pred.cpu().data.numpy(), axis=1) == np.argmax(y_train[data], axis=1))  \n",
    "        train_loss += batch_loss.item()\n",
    "        train_count += Xtrian.shape[0]\n",
    "\n",
    "    model.eval()\n",
    "    with torch.no_grad():\n",
    "        for i, data in enumerate(val_loader_index):\n",
    "            Xval = torch.from_numpy(X_val[data,:,:]).to(torch.float32).to(device)\n",
    "            yval = torch.from_numpy(y_val[data]).to(torch.float32).to(device)\n",
    "            \n",
    "            val_pred = model(Xval)\n",
    "            batch_loss = loss(val_pred, yval)\n",
    "\n",
    "            val_acc += np.sum(np.argmax(val_pred.cpu().data.numpy(), axis=1) == np.argmax(y_val[data], axis=1))   \n",
    "            val_loss += batch_loss.item()\n",
    "            val_count += Xval.shape[0]\n",
    "            \n",
    "        print('[%03d/%03d] %2.2f sec(s) Train Acc: %3.6f Loss: %3.6f | Val Acc: %3.6f loss: %3.6f' % \\\n",
    "              (epoch + 1, num_epoch, time.time() - epoch_start_time, \\\n",
    "               train_acc / train_count, train_loss / train_count , val_acc / val_count, val_loss / val_count))\n",
    "        train_acc_list.append(train_acc / train_count) \n",
    "        train_loss_list.append(train_loss / train_count) \n",
    "        val_acc_list.append(val_acc / val_count)\n",
    "        val_loss_list.append(val_loss / val_count)"
   ]
  },
  {
   "cell_type": "code",
   "execution_count": null,
   "metadata": {},
   "outputs": [],
   "source": [
    "## 画图Train Loss and Validation Loss\n",
    "plt.figure(figsize=(8,6))  # 训练集的损失和验证集的损失，判断收敛和过拟合 \n",
    "k=0\n",
    "plt.plot(train_loss_list[k:],'ro-',label='Train Loss')   # 画3个epoch 之后的\n",
    "#plt.plot(val_loss_list[k:],'bs-',label='Val Loss')\n",
    "plt.title('Train Loss and Validation Loss')\n",
    "plt.xlabel('epoch')\n",
    "plt.ylabel('Loss')\n",
    "plt.legend()"
   ]
  },
  {
   "cell_type": "code",
   "execution_count": null,
   "metadata": {},
   "outputs": [],
   "source": [
    "## 画图Train Acc and Validation Acc\n",
    "plt.figure(figsize=(8,6))  # 训练集的损失和验证集的损失，判断收敛和过拟合 \n",
    "k=0\n",
    "plt.plot(train_acc_list[k:],'ro-',label='Train Acc')   # 画3个epoch 之后的\n",
    "plt.plot(val_acc_list[k:],'bs-',label='Val Acc')\n",
    "plt.title('Train Acc and Validation Acc')\n",
    "plt.xlabel('epoch')\n",
    "plt.ylabel('Acc')\n",
    "plt.legend()"
   ]
  },
  {
   "cell_type": "markdown",
   "metadata": {},
   "source": [
    "### 4 测试集分类"
   ]
  },
  {
   "cell_type": "code",
   "execution_count": null,
   "metadata": {},
   "outputs": [],
   "source": [
    "## 合并训练集和验证集 重新训练\n",
    "train_val_X = np.concatenate((X_train, X_val), axis=0)\n",
    "train_val_y = np.concatenate((y_train, y_val), axis=0)\n",
    "train_val_loader_index = myDataLoader_index(train_val_X,batch_size = batch_size, shuffle=True)"
   ]
  },
  {
   "cell_type": "code",
   "execution_count": null,
   "metadata": {},
   "outputs": [],
   "source": [
    "model_best =  myCNN1d().to(device)\n",
    "loss = nn.CrossEntropyLoss()  # 因為是 classification task，所以 loss 使用 CrossEntropyLoss\n",
    "optimizer = torch.optim.Adam(model_best.parameters(), lr=0.0001)  # optimizer 使用 Adam\n",
    "num_epoch = 30\n",
    "\n",
    "loss_list = []\n",
    "acc_list = []\n",
    "\n",
    "for epoch in range(num_epoch):\n",
    "    epoch_start_time = time.time()\n",
    "    train_acc = 0.0\n",
    "    train_loss = 0.0\n",
    "    train_count = 0.0\n",
    "    \n",
    "    model_best.train()\n",
    "    for i, data in enumerate(train_val_loader_index):\n",
    "        Xtrian = torch.from_numpy(train_val_X[data,:,:]).to(torch.float32).to(device)\n",
    "        ytrian = torch.from_numpy(train_val_y[data]).to(torch.float32).to(device)\n",
    "        \n",
    "        optimizer.zero_grad()\n",
    "        train_pred = model_best(Xtrian)\n",
    "        batch_loss = loss(train_pred, ytrian)\n",
    "        batch_loss.backward()\n",
    "        optimizer.step()\n",
    "\n",
    "        train_acc += np.sum(np.argmax(train_pred.cpu().data.numpy(), axis=1) == np.argmax(train_val_y[data], axis=1))\n",
    "        train_loss += batch_loss.item()\n",
    "        train_count += Xtrian.shape[0]\n",
    "\n",
    "        # 將結果 print 出來\n",
    "    print('[%03d/%03d] %2.2f sec(s) Train Acc: %3.6f Loss: %3.6f' % \\\n",
    "          (epoch + 1, num_epoch, time.time() - epoch_start_time, \\\n",
    "           train_acc / train_count, train_loss / train_count))\n",
    "    \n",
    "    acc_list.append(train_acc / train_count) \n",
    "    loss_list.append(train_loss / train_count) "
   ]
  },
  {
   "cell_type": "code",
   "execution_count": null,
   "metadata": {},
   "outputs": [],
   "source": [
    "plt.figure(figsize=(12,5))  # 训练集的损失和验证集的损失，判断收敛和过拟合 \n",
    "plt.subplot(1, 2, 1)     \n",
    "k=0\n",
    "plt.plot(loss_list[k:],'ro-',label='Loss')   # 画3个epoch 之后的\n",
    "#plt.title('Loss')\n",
    "plt.xlabel('epoch')\n",
    "plt.ylabel('Loss')\n",
    "plt.savefig('')\n",
    "#plt.legend()\n",
    "\n",
    "plt.subplot(1, 2, 2)     \n",
    "k=0\n",
    "plt.plot(acc_list[k:],'bs-',label='Acc')  # 画3个epoch 之后的\n",
    "#plt.title('Acc')\n",
    "plt.xlabel('epoch')\n",
    "plt.ylabel('Acc')"
   ]
  },
  {
   "cell_type": "code",
   "execution_count": null,
   "metadata": {},
   "outputs": [],
   "source": [
    "## 生成测试集结果\n",
    "test_loader_index = myDataLoader_index(X_test,batch_size = batch_size, shuffle=False)\n",
    "model_best.eval()\n",
    "y_prediction = []\n",
    "with torch.no_grad():\n",
    "    for i, data in enumerate(test_loader_index):\n",
    "        Xtest = torch.from_numpy(X_test[data,:,:]).to(torch.float32).to(device)\n",
    "        \n",
    "        test_pred = model_best(Xtest)\n",
    "        test_label = np.argmax(test_pred.cpu().data.numpy(), axis=1)\n",
    "        for y in test_label:\n",
    "            y_prediction.append(y)"
   ]
  },
  {
   "cell_type": "code",
   "execution_count": null,
   "metadata": {},
   "outputs": [],
   "source": [
    "y_label =  np.argmax(y_test, axis=1)"
   ]
  },
  {
   "cell_type": "code",
   "execution_count": null,
   "metadata": {},
   "outputs": [],
   "source": [
    "get_confusion_matrix_result(y_label,y_prediction)"
   ]
  },
  {
   "cell_type": "markdown",
   "metadata": {},
   "source": [
    "### 附：封装代码函数"
   ]
  },
  {
   "cell_type": "markdown",
   "metadata": {},
   "source": [
    "#### 1 get_data_label封装函数"
   ]
  },
  {
   "cell_type": "code",
   "execution_count": null,
   "metadata": {},
   "outputs": [],
   "source": [
    "import numpy as np\n",
    "import matplotlib.pyplot as plt\n",
    "\n",
    "import mne\n",
    "from mne.io import concatenate_raws, read_raw_edf  ## 读取edf格式数据\n",
    "from mne.datasets import eegbci\n",
    "\n",
    "class get_data_label():\n",
    "    def __init__(self, subjects, runs, path):\n",
    "        self.subjects = subjects\n",
    "        self.runs = runs\n",
    "        self.path = path\n",
    "        \n",
    "    def get_fnames(self):  ## subject 样本主体list， runs 任务list ， path 数据路径\n",
    "        raw_fnames = list()\n",
    "        for i in self.subjects:\n",
    "            index_subjects = str(i).rjust(3,'0')  ## 如 1 —> 001   11 —> 011  101 —> 101\n",
    "            # print(index_subjects)\n",
    "            for ii in self.runs:\n",
    "                index_task = str(ii).rjust(2,'0') \n",
    "                # print(index_task)\n",
    "                temp_fname = str(self.path) + \"\\\\\" + str(index_subjects) + \"\\\\\" + str(index_subjects) +\"R\"+ str(index_task)+\".edf\"\n",
    "                #print(temp_fname)\n",
    "                raw_fnames.append(temp_fname)\n",
    "            print(\"subject\"+ str(i)+\" 路径读取完毕\")\n",
    "        return(raw_fnames)\n",
    "    \n",
    "    def data_pair(self,event_id, tmin=0, tmax=4):  \n",
    "        # raw：合并后数据\n",
    "        # event_id：标签选择，tmin 标签点前时间 ，标签点后时间 \n",
    "        # tmin ：标签点前时间，一般为-0.1/-0.2s，*160=16/32   —— 4.1*160 = 656\n",
    "        # tmax ：标签点后时间，本数据库，取4s，4*160=640      —— 4.2*160 = 672    \n",
    "        # num_files：输入edf文件数，为了解决因tmin<0而存在第一个静息状态无法获取问题(该问题会导致epoch量不等于label量)\n",
    "        raw_fnames = self.get_fnames()\n",
    "        num_files = len(raw_fnames)\n",
    "        raw = concatenate_raws([read_raw_edf(f, preload=True) for f in raw_fnames])\n",
    "        events, _ = mne.events_from_annotations(raw, event_id = event_id)  #, event_id = event_id\n",
    "        print(events.shape)\n",
    "        # 根据事件生成对应的Epochs数据\n",
    "        epochs = mne.Epochs(raw, events, event_id=event_id, tmin=tmin, tmax=tmax, baseline=None, preload=True) #picks=picks\n",
    "        # 获取epochs的所有数据\n",
    "        epochs_data = epochs.get_data()    ##  epochs_data [subjects, channels , sample_node]\n",
    "\n",
    "        ##event_label = epochs.events[:,-1]  \n",
    "        if  \"T0\" in event_id:            ## 如果事件任务中包括“T0 = 1”即静止状态，可能存在系列情况\n",
    "            print(\"Considered TO\")\n",
    "            # 获取event的所有数据\n",
    "            if tmin >= 0 :\n",
    "                event_data = events[:,2]\n",
    "            else:                             ## 若tmim = -0.1,将会把第一个epoch作为错误epoch给去除\n",
    "                num_files = num_files\n",
    "                index_0 = [i*30 for i in range(num_files)]\n",
    "                event_data = np.delete(events,index_0,axis=0)[:,2]\n",
    "        else:\n",
    "            print(\"Not considered TO\")\n",
    "            event_data = events[:,2]\n",
    "        ## 是否对齐\n",
    "        if epochs_data.shape[0] == event_data.shape[0]:\n",
    "            print(\"Data and label pairing\")\n",
    "        else:\n",
    "            print(\"Error:data and label not pairing\")\n",
    "        return epochs_data,event_data\n",
    "    \n",
    "    def get_event_label(self,event_data,replacelist):\n",
    "        event_label=[]\n",
    "        event_data = event_data-1\n",
    "        for i in range(len(event_data)):\n",
    "            if event_data[i] == 0 :\n",
    "                event_label.append(replacelist[0])\n",
    "            elif event_data[i] == 1 :\n",
    "                event_label.append(replacelist[1])\n",
    "            elif event_data[i] == 2 :\n",
    "                event_label.append(replacelist[2])\n",
    "            else:\n",
    "                print(\"存在错误\")\n",
    "        return(event_label)"
   ]
  },
  {
   "cell_type": "markdown",
   "metadata": {},
   "source": [
    "#### 2 Mymodel封装函数"
   ]
  },
  {
   "cell_type": "code",
   "execution_count": null,
   "metadata": {},
   "outputs": [],
   "source": [
    "import numpy as np\n",
    "import matplotlib.pyplot as plt\n",
    "from sklearn.decomposition import PCA\n",
    "from mne.decoding import CSP\n",
    "\n",
    "class myC_mean():\n",
    "    def __init__(self,data):\n",
    "        self.data = data\n",
    "        \n",
    "    def get_C_mean_data(self):\n",
    "        data_mean = self.data.mean(axis=1,keepdims=True) \n",
    "        data_C_mean = data_mean.squeeze(1)\n",
    "        return(data_C_mean)\n",
    "\n",
    "class myPCA():\n",
    "    def __init__(self,data):\n",
    "        self.data = data\n",
    "        self.model_PCA = PCA()\n",
    "        self.model_PCA.fit(self.data)\n",
    "        \n",
    "    def get_PCA_nums(self):\n",
    "        explained_variance_ratio =self.model_PCA.explained_variance_ratio_.cumsum()\n",
    "        index = np.argmax((explained_variance_ratio >0.9)) \n",
    "        print(\"方差解释能力达到90%以上至少需要：\",index+1,\"个主成分\")\n",
    "        return(index+1)\n",
    "    def get_plot_PVE(self):\n",
    "        #可视化  画累计百分比，这样可以判断选几个主成分\n",
    "        plt.plot(self.model_PCA.explained_variance_ratio_, 'o-')\n",
    "        plt.xlabel('Principal Component')\n",
    "        plt.ylabel('Proportion of Variance Explained')\n",
    "        plt.title('PVE')\n",
    "    def get_plot_Cumulative_PVE(self):   \n",
    "        # 解释到90%以上了\n",
    "        plt.plot(self.model_PCA.explained_variance_ratio_.cumsum(), 'o-')\n",
    "        plt.xlabel('Principal Component')\n",
    "        plt.ylabel('Cumulative Proportion of Variance Explained')\n",
    "        plt.axhline(0.9, color='k', linestyle='--', linewidth=1)\n",
    "        plt.title('Cumulative PVE')\n",
    "        \n",
    "    def fit(self,X_train,X_test,n_components):\n",
    "        model = PCA(n_components = n_components)\n",
    "        model.fit(X_train)\n",
    "        #得到主成分得分\n",
    "        X_train_pca = model.transform(X_train)\n",
    "        X_test_pca = model.transform(X_test)\n",
    "        return X_train_pca,X_test_pca\n",
    "\n",
    "class myCNN1d(nn.Module):\n",
    "    def __init__(self):\n",
    "        super(myCNN1d, self).__init__()\n",
    "        # torch.nn.Conv2d(in_channels, out_channels, kernel_size, stride, padding)\n",
    "        # torch.nn.MaxPool2d(kernel_size, stride, padding)\n",
    "        # input 维度 [32，64, 641]\n",
    "        self.cnn = nn.Sequential(\n",
    "            nn.Conv1d(64, 32, 7, 1, 3),  # [32, 640]\n",
    "            nn.BatchNorm1d(32),\n",
    "            nn.ReLU(),\n",
    "            nn.MaxPool1d(2, 2, 0),  # [32, 320]\n",
    "\n",
    "            nn.Conv1d(32, 32, 7, 1, 3),  # [32, 320]\n",
    "            nn.BatchNorm1d(32),\n",
    "            nn.ReLU(),\n",
    "            nn.MaxPool1d(2, 2, 0),  # [32, 160]\n",
    "\n",
    "            nn.Conv1d(32, 32, 7, 1, 3),  # [32, 160]\n",
    "            nn.BatchNorm1d(32),\n",
    "            nn.ReLU(),\n",
    "            nn.MaxPool1d(2, 2, 0),  # [32, 80]\n",
    "        )\n",
    "        self.fc = nn.Sequential(\n",
    "            nn.Linear(32 * 80, 1024),\n",
    "            nn.ReLU(),\n",
    "            nn.Linear(1024, 512),\n",
    "            nn.ReLU(),\n",
    "            nn.Linear(512, 2)\n",
    "        )\n",
    "    def forward(self, x):\n",
    "        out = self.cnn(x)\n",
    "        out = out.view(out.size()[0], -1)\n",
    "        return self.fc(out)"
   ]
  }
 ],
 "metadata": {
  "kernelspec": {
   "display_name": "Python 3",
   "language": "python",
   "name": "python3"
  },
  "language_info": {
   "codemirror_mode": {
    "name": "ipython",
    "version": 3
   },
   "file_extension": ".py",
   "mimetype": "text/x-python",
   "name": "python",
   "nbconvert_exporter": "python",
   "pygments_lexer": "ipython3",
   "version": "3.7.4"
  }
 },
 "nbformat": 4,
 "nbformat_minor": 2
}
